{
 "cells": [
  {
   "cell_type": "code",
   "execution_count": 43,
   "metadata": {},
   "outputs": [],
   "source": [
    "import getpass\n",
    "import os\n",
    "\n",
    "if not os.environ.get(\"OPENAI_API_KEY\"):\n",
    "  os.environ[\"OPENAI_API_KEY\"] = getpass.getpass(\"Enter API key for OpenAI: \")\n",
    "\n",
    "from langchain.chat_models import init_chat_model\n",
    "model = init_chat_model(\"gpt-4o\", model_provider=\"openai\")"
   ]
  },
  {
   "cell_type": "code",
   "execution_count": 44,
   "metadata": {},
   "outputs": [
    {
     "data": {
      "text/plain": [
       "AIMessage(content=\"If you are experiencing issues with upgrading your usage tier on the OpenAI API despite making a payment, here are a few steps you can take to resolve the situation:\\n\\n1. **Verify Payment**: Double-check your transaction records and the billing section of your OpenAI account to ensure the payment has been processed successfully without any issues or reversals.\\n\\n2. **Check Account Status**: Confirm that there are no outstanding issues with your account that might affect your usage tier, such as any compliance or policy notifications.\\n\\n3. **Review Usage Limits**: Ensure that you fully understand the criteria required to move from Tier 1 to a higher tier. It's possible there are additional requirements beyond just making a payment.\\n\\n4. **Wait for Processing Time**: Upgrading between tiers might take some time to process even after payment. It's possible that 7+ days is within the expected processing time.\\n\\n5. **Contact Support**: If everything seems in order and the problem persists, reach out to OpenAI's support team. Provide them with details of your account, your payment, and any relevant messages or records that could help them troubleshoot your issue.\\n\\nTo contact OpenAI support, you can usually find contact information or a support form on their official website or within your account dashboard. Providing precise information will help expedite the resolution process.\", additional_kwargs={'refusal': None}, response_metadata={'token_usage': {'completion_tokens': 266, 'prompt_tokens': 83, 'total_tokens': 349, 'completion_tokens_details': {'accepted_prediction_tokens': 0, 'audio_tokens': 0, 'reasoning_tokens': 0, 'rejected_prediction_tokens': 0}, 'prompt_tokens_details': {'audio_tokens': 0, 'cached_tokens': 0}}, 'model_name': 'gpt-4o-2024-08-06', 'system_fingerprint': 'fp_ff092ab25e', 'finish_reason': 'stop', 'logprobs': None}, id='run-32e2c84e-741b-41cb-b495-59753f0ab3bb-0', usage_metadata={'input_tokens': 83, 'output_tokens': 266, 'total_tokens': 349, 'input_token_details': {'audio': 0, 'cache_read': 0}, 'output_token_details': {'audio': 0, 'reasoning': 0}})"
      ]
     },
     "execution_count": 44,
     "metadata": {},
     "output_type": "execute_result"
    }
   ],
   "source": [
    "model.invoke(\"It has been 7+ days from the first payment and I paid $100. But why am I still stuck in Tier 1 of OpenAI API? I checked the billing page and it says I have spent $100. I am not sure what is wrong. And also checked the limit page and my tier is still 1. Can you please help me with this?\")"
   ]
  },
  {
   "cell_type": "code",
   "execution_count": null,
   "metadata": {},
   "outputs": [
    {
     "data": {
      "text/plain": [
       "ChatCompletion(id='chatcmpl-B1meDJ7BTjQMOWUOXkZw80nZ2dHSh', choices=[Choice(finish_reason='stop', index=0, logprobs=None, message=ChatCompletionMessage(content=\"Of course! I'd be happy to help with your research. Could you please provide more details about the topic you're working on and the specific issues you're encountering?\", refusal=None, role='assistant', audio=None, function_call=None, tool_calls=None))], created=1739765029, model='gpt-4o-2024-08-06', object='chat.completion', service_tier='default', system_fingerprint='fp_523b9b6e5f', usage=CompletionUsage(completion_tokens=32, prompt_tokens=20, total_tokens=52, completion_tokens_details=CompletionTokensDetails(accepted_prediction_tokens=0, audio_tokens=0, reasoning_tokens=0, rejected_prediction_tokens=0), prompt_tokens_details=PromptTokensDetails(audio_tokens=0, cached_tokens=0)))"
      ]
     },
     "execution_count": 46,
     "metadata": {},
     "output_type": "execute_result"
    }
   ],
   "source": [
    "import openai\n",
    "\n",
    "client = openai.Client(api_key=os.environ.get('OPENAI_API_KEY'))\n",
    "messages = [\n",
    "    # {\n",
    "    #     'role': 'system',\n",
    "    #     'content': 'You are a helpful assistant that is trying to help the user with their problem. The user is asking for help with a technical issue they are having with their research.',\n",
    "    # },\n",
    "    {\n",
    "        \"role\": \"user\",\n",
    "        \"content\": 'I am having trouble with my research. Can you help me?',\n",
    "    }\n",
    "]\n",
    "request = client.chat.completions.create(\n",
    "    model='gpt-4o',\n",
    "    messages=messages,\n",
    "    # temperature=0,\n",
    "    # max_tokens=1024,\n",
    ")\n",
    "request"
   ]
  },
  {
   "cell_type": "code",
   "execution_count": 41,
   "metadata": {},
   "outputs": [],
   "source": [
    "from langchain_core.tools import tool\n",
    "\n",
    "@tool\n",
    "def multiply(a: int, b: int) -> int:\n",
    "    \"\"\"Multiply a and b.\"\"\"\n",
    "    return a * b\n",
    "\n",
    "tools_list = [multiply]"
   ]
  },
  {
   "cell_type": "code",
   "execution_count": 47,
   "metadata": {},
   "outputs": [
    {
     "data": {
      "text/plain": [
       "AIMessage(content='', additional_kwargs={'tool_calls': [{'id': 'call_qRt0w1WZPWaeoeq2YHZX6ikp', 'function': {'arguments': '{\"a\":2,\"b\":3}', 'name': 'multiply'}, 'type': 'function'}], 'refusal': None}, response_metadata={'token_usage': {'completion_tokens': 18, 'prompt_tokens': 54, 'total_tokens': 72, 'completion_tokens_details': {'accepted_prediction_tokens': 0, 'audio_tokens': 0, 'reasoning_tokens': 0, 'rejected_prediction_tokens': 0}, 'prompt_tokens_details': {'audio_tokens': 0, 'cached_tokens': 0}}, 'model_name': 'gpt-4o-2024-08-06', 'system_fingerprint': 'fp_ff092ab25e', 'finish_reason': 'tool_calls', 'logprobs': None}, id='run-76745f47-c15a-41ea-a692-b5d1126c6421-0', tool_calls=[{'name': 'multiply', 'args': {'a': 2, 'b': 3}, 'id': 'call_qRt0w1WZPWaeoeq2YHZX6ikp', 'type': 'tool_call'}], usage_metadata={'input_tokens': 54, 'output_tokens': 18, 'total_tokens': 72, 'input_token_details': {'audio': 0, 'cache_read': 0}, 'output_token_details': {'audio': 0, 'reasoning': 0}})"
      ]
     },
     "execution_count": 47,
     "metadata": {},
     "output_type": "execute_result"
    }
   ],
   "source": [
    "llm_with_tools = model.bind_tools(tools_list)\n",
    "result = llm_with_tools.invoke(\"What is 2 multiplied by 3?\")\n",
    "result"
   ]
  },
  {
   "cell_type": "code",
   "execution_count": null,
   "metadata": {},
   "outputs": [
    {
     "data": {
      "text/plain": [
       "{'lc': 1,\n",
       " 'type': 'constructor',\n",
       " 'id': ['langchain', 'schema', 'messages', 'AIMessage'],\n",
       " 'kwargs': {'content': '',\n",
       "  'additional_kwargs': {'tool_calls': [{'id': 'call_0RM4OtHSYXgvBTKF8uHG5x4d',\n",
       "     'function': {'arguments': '{\"a\":2,\"b\":3}', 'name': 'multiply'},\n",
       "     'type': 'function'}],\n",
       "   'refusal': None},\n",
       "  'response_metadata': {'token_usage': {'completion_tokens': 18,\n",
       "    'prompt_tokens': 54,\n",
       "    'total_tokens': 72,\n",
       "    'completion_tokens_details': {'accepted_prediction_tokens': 0,\n",
       "     'audio_tokens': 0,\n",
       "     'reasoning_tokens': 0,\n",
       "     'rejected_prediction_tokens': 0},\n",
       "    'prompt_tokens_details': {'audio_tokens': 0, 'cached_tokens': 0}},\n",
       "   'model_name': 'gpt-4o-mini-2024-07-18',\n",
       "   'system_fingerprint': 'fp_13eed4fce1',\n",
       "   'finish_reason': 'tool_calls',\n",
       "   'logprobs': None},\n",
       "  'type': 'ai',\n",
       "  'id': 'run-2abf6665-1c44-4af4-8bc0-420844510a55-0',\n",
       "  'tool_calls': [{'name': 'multiply',\n",
       "    'args': {'a': 2, 'b': 3},\n",
       "    'id': 'call_0RM4OtHSYXgvBTKF8uHG5x4d',\n",
       "    'type': 'tool_call'}],\n",
       "  'usage_metadata': {'input_tokens': 54,\n",
       "   'output_tokens': 18,\n",
       "   'total_tokens': 72,\n",
       "   'input_token_details': {'audio': 0, 'cache_read': 0},\n",
       "   'output_token_details': {'audio': 0, 'reasoning': 0}},\n",
       "  'invalid_tool_calls': []}}"
      ]
     },
     "execution_count": 7,
     "metadata": {},
     "output_type": "execute_result"
    }
   ],
   "source": [
    "result.to_json()"
   ]
  }
 ],
 "metadata": {
  "kernelspec": {
   "display_name": "base",
   "language": "python",
   "name": "python3"
  },
  "language_info": {
   "codemirror_mode": {
    "name": "ipython",
    "version": 3
   },
   "file_extension": ".py",
   "mimetype": "text/x-python",
   "name": "python",
   "nbconvert_exporter": "python",
   "pygments_lexer": "ipython3",
   "version": "3.11.10"
  }
 },
 "nbformat": 4,
 "nbformat_minor": 2
}
