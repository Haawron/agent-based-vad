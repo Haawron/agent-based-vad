{
 "cells": [
  {
   "cell_type": "code",
   "execution_count": 28,
   "metadata": {},
   "outputs": [
    {
     "name": "stdout",
     "output_type": "stream",
     "text": [
      "/code\n"
     ]
    }
   ],
   "source": [
    "%cd /code/\n",
    "import io\n",
    "import openai\n",
    "import os\n",
    "import base64\n",
    "from pathlib import Path\n",
    "\n",
    "from decord import VideoReader\n",
    "from PIL import Image\n",
    "import numpy as np\n",
    "\n",
    "from pydantic import BaseModel, Field"
   ]
  },
  {
   "cell_type": "code",
   "execution_count": 29,
   "metadata": {},
   "outputs": [],
   "source": [
    "class Base(BaseModel):\n",
    "    anomaly_score: float = Field(..., title=\"Anomaly Score\", description=\"Anomaly score of the input text\")\n",
    "    explanation: str = Field(..., title=\"Explanation\", description=\"Explanation of the anomaly score\")"
   ]
  },
  {
   "cell_type": "code",
   "execution_count": 30,
   "metadata": {},
   "outputs": [
    {
     "name": "stdout",
     "output_type": "stream",
     "text": [
      "0 103 0 29\n"
     ]
    }
   ],
   "source": [
    "def get_frames(\n",
    "    p_video,\n",
    "    duration_sec = 1,\n",
    "    max_frames_num = 32,\n",
    "):\n",
    "    FPS = 30\n",
    "    num_frames_segment = int(duration_sec * FPS)\n",
    "\n",
    "    vr = VideoReader(str(p_video))\n",
    "    total_frame_num = len(vr)\n",
    "    num_segments = total_frame_num // num_frames_segment\n",
    "    for segment_idx in range(num_segments):\n",
    "        segment_start_idx = segment_idx * num_frames_segment\n",
    "        segment_end_idx = segment_start_idx + num_frames_segment - 1\n",
    "        uniform_sampled_frames = np.linspace(segment_start_idx, segment_end_idx, max_frames_num + 2, dtype=int)[1:-1]\n",
    "        frame_idx = uniform_sampled_frames.tolist()\n",
    "        frames = vr.get_batch(frame_idx).asnumpy()\n",
    "        yield {\n",
    "            'frames': frames,\n",
    "            'segment_idx': segment_idx,\n",
    "            'total_segments': num_segments,\n",
    "            'segment_start_idx': segment_start_idx,\n",
    "            'segment_end_idx': segment_end_idx,\n",
    "        }\n",
    "\n",
    "\n",
    "def frames_to_base64(frames):\n",
    "    img_list = []\n",
    "    for frame in frames:\n",
    "        img = Image.fromarray(frame)\n",
    "        img_byte_arr = io.BytesIO()\n",
    "        img.save(img_byte_arr, format='PNG')\n",
    "        img_byte_arr = img_byte_arr.getvalue()\n",
    "        img_list.append(base64.b64encode(img_byte_arr).decode('utf-8'))\n",
    "    return img_list\n",
    "\n",
    "\n",
    "p_video = Path('data/UCF_Crimes/Videos/Fighting/Fighting003_x264.mp4')\n",
    "frames = get_frames(p_video)\n",
    "for frame in frames:\n",
    "    img_list = frames_to_base64(frame['frames'])\n",
    "    # print(img_list)\n",
    "    print(frame['segment_idx'], frame['total_segments'], frame['segment_start_idx'], frame['segment_end_idx'])\n",
    "    break"
   ]
  },
  {
   "cell_type": "code",
   "execution_count": 32,
   "metadata": {},
   "outputs": [
    {
     "data": {
      "text/plain": [
       "'{\"anomaly_score\":0.2,\"explanation\":\"The video depicts a scene in a subway station with people behaving in a typical manner for such an environment. There is nothing clearly unusual, such as a lack of people, odd behavior, or strange objects in view that would increase the anomaly score.\"}'"
      ]
     },
     "execution_count": 32,
     "metadata": {},
     "output_type": "execute_result"
    }
   ],
   "source": [
    "\n",
    "# client = openai.Client(api_key='EMPTY', base_url='http://10.90.21.21:50001/v1')\n",
    "client = openai.Client(api_key=os.getenv(\"OPENAI_API_KEY\"))\n",
    "request = client.beta.chat.completions.parse(\n",
    "    model='gpt-4o',\n",
    "    messages=[\n",
    "        {'role': 'system', 'content': 'You are a helpful assistant.'},\n",
    "        {'role': 'user', 'content': [\n",
    "            {\n",
    "                'type': 'image_url',\n",
    "                'image_url': {'url': f'data:image/png;base64,{img_list[0]}'}\n",
    "            },\n",
    "            {\n",
    "                'type': 'text',\n",
    "                'text': 'How anomalous is this video? Please rate from 0 to 1 with 0 being not anomalous and 1 being very anomalous and provide an explanation in a few sentences in provided json format.',\n",
    "            },\n",
    "        ]}\n",
    "    ],\n",
    "    seed=1234,\n",
    "    response_format=Base,\n",
    ")\n",
    "response = request.choices[0].message.content\n",
    "response"
   ]
  },
  {
   "cell_type": "code",
   "execution_count": null,
   "metadata": {},
   "outputs": [],
   "source": []
  },
  {
   "cell_type": "code",
   "execution_count": null,
   "metadata": {},
   "outputs": [],
   "source": []
  },
  {
   "cell_type": "code",
   "execution_count": null,
   "metadata": {},
   "outputs": [],
   "source": []
  },
  {
   "cell_type": "code",
   "execution_count": null,
   "metadata": {},
   "outputs": [],
   "source": []
  }
 ],
 "metadata": {
  "kernelspec": {
   "display_name": "base",
   "language": "python",
   "name": "python3"
  },
  "language_info": {
   "codemirror_mode": {
    "name": "ipython",
    "version": 3
   },
   "file_extension": ".py",
   "mimetype": "text/x-python",
   "name": "python",
   "nbconvert_exporter": "python",
   "pygments_lexer": "ipython3",
   "version": "3.11.10"
  }
 },
 "nbformat": 4,
 "nbformat_minor": 2
}
